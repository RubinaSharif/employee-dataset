{
 "cells": [
  {
   "cell_type": "code",
   "execution_count": 123,
   "id": "336202cc-8ccd-4fda-ae68-046062e3f825",
   "metadata": {},
   "outputs": [],
   "source": [
    "import pandas as pd\n",
    "import numpy as np"
   ]
  },
  {
   "cell_type": "code",
   "execution_count": 124,
   "id": "4c92db34-3be2-402b-8a22-f80500f63687",
   "metadata": {},
   "outputs": [],
   "source": [
    "df=pd.read_csv('Desktop/employee data.csv')"
   ]
  },
  {
   "cell_type": "code",
   "execution_count": 125,
   "id": "e95901cc-77a2-40d4-934e-bc75c1bd4041",
   "metadata": {},
   "outputs": [
    {
     "data": {
      "text/html": [
       "<div>\n",
       "<style scoped>\n",
       "    .dataframe tbody tr th:only-of-type {\n",
       "        vertical-align: middle;\n",
       "    }\n",
       "\n",
       "    .dataframe tbody tr th {\n",
       "        vertical-align: top;\n",
       "    }\n",
       "\n",
       "    .dataframe thead th {\n",
       "        text-align: right;\n",
       "    }\n",
       "</style>\n",
       "<table border=\"1\" class=\"dataframe\">\n",
       "  <thead>\n",
       "    <tr style=\"text-align: right;\">\n",
       "      <th></th>\n",
       "      <th>id</th>\n",
       "      <th>gender</th>\n",
       "      <th>bdate</th>\n",
       "      <th>educ</th>\n",
       "      <th>jobcat</th>\n",
       "      <th>salary</th>\n",
       "      <th>salbegin</th>\n",
       "      <th>jobtime</th>\n",
       "      <th>prevexp</th>\n",
       "      <th>minority</th>\n",
       "    </tr>\n",
       "  </thead>\n",
       "  <tbody>\n",
       "    <tr>\n",
       "      <th>0</th>\n",
       "      <td>1.0</td>\n",
       "      <td>Male</td>\n",
       "      <td>1952-02-03</td>\n",
       "      <td>15</td>\n",
       "      <td>Manager</td>\n",
       "      <td>57000.0</td>\n",
       "      <td>27000.0</td>\n",
       "      <td>98.0</td>\n",
       "      <td>144.0</td>\n",
       "      <td>No</td>\n",
       "    </tr>\n",
       "    <tr>\n",
       "      <th>1</th>\n",
       "      <td>2.0</td>\n",
       "      <td>Male</td>\n",
       "      <td>1958-05-23</td>\n",
       "      <td>16</td>\n",
       "      <td>Clerical</td>\n",
       "      <td>40200.0</td>\n",
       "      <td>18750.0</td>\n",
       "      <td>98.0</td>\n",
       "      <td>36.0</td>\n",
       "      <td>No</td>\n",
       "    </tr>\n",
       "    <tr>\n",
       "      <th>2</th>\n",
       "      <td>3.0</td>\n",
       "      <td>Female</td>\n",
       "      <td>1929-07-26</td>\n",
       "      <td>12</td>\n",
       "      <td>Clerical</td>\n",
       "      <td>21450.0</td>\n",
       "      <td>12000.0</td>\n",
       "      <td>98.0</td>\n",
       "      <td>381.0</td>\n",
       "      <td>No</td>\n",
       "    </tr>\n",
       "    <tr>\n",
       "      <th>3</th>\n",
       "      <td>4.0</td>\n",
       "      <td>Female</td>\n",
       "      <td>1947-04-15</td>\n",
       "      <td>8</td>\n",
       "      <td>Clerical</td>\n",
       "      <td>21900.0</td>\n",
       "      <td>13200.0</td>\n",
       "      <td>98.0</td>\n",
       "      <td>190.0</td>\n",
       "      <td>No</td>\n",
       "    </tr>\n",
       "    <tr>\n",
       "      <th>4</th>\n",
       "      <td>5.0</td>\n",
       "      <td>Male</td>\n",
       "      <td>1955-02-09</td>\n",
       "      <td>15</td>\n",
       "      <td>Clerical</td>\n",
       "      <td>45000.0</td>\n",
       "      <td>21000.0</td>\n",
       "      <td>98.0</td>\n",
       "      <td>138.0</td>\n",
       "      <td>No</td>\n",
       "    </tr>\n",
       "    <tr>\n",
       "      <th>...</th>\n",
       "      <td>...</td>\n",
       "      <td>...</td>\n",
       "      <td>...</td>\n",
       "      <td>...</td>\n",
       "      <td>...</td>\n",
       "      <td>...</td>\n",
       "      <td>...</td>\n",
       "      <td>...</td>\n",
       "      <td>...</td>\n",
       "      <td>...</td>\n",
       "    </tr>\n",
       "    <tr>\n",
       "      <th>469</th>\n",
       "      <td>470.0</td>\n",
       "      <td>Male</td>\n",
       "      <td>1964-01-22</td>\n",
       "      <td>12</td>\n",
       "      <td>Clerical</td>\n",
       "      <td>26250.0</td>\n",
       "      <td>15750.0</td>\n",
       "      <td>64.0</td>\n",
       "      <td>69.0</td>\n",
       "      <td>Yes</td>\n",
       "    </tr>\n",
       "    <tr>\n",
       "      <th>470</th>\n",
       "      <td>471.0</td>\n",
       "      <td>Male</td>\n",
       "      <td>1966-08-03</td>\n",
       "      <td>15</td>\n",
       "      <td>Clerical</td>\n",
       "      <td>26400.0</td>\n",
       "      <td>15750.0</td>\n",
       "      <td>64.0</td>\n",
       "      <td>32.0</td>\n",
       "      <td>Yes</td>\n",
       "    </tr>\n",
       "    <tr>\n",
       "      <th>471</th>\n",
       "      <td>472.0</td>\n",
       "      <td>Male</td>\n",
       "      <td>1966-02-21</td>\n",
       "      <td>15</td>\n",
       "      <td>Clerical</td>\n",
       "      <td>39150.0</td>\n",
       "      <td>15750.0</td>\n",
       "      <td>63.0</td>\n",
       "      <td>46.0</td>\n",
       "      <td>No</td>\n",
       "    </tr>\n",
       "    <tr>\n",
       "      <th>472</th>\n",
       "      <td>473.0</td>\n",
       "      <td>Female</td>\n",
       "      <td>1937-11-25</td>\n",
       "      <td>12</td>\n",
       "      <td>Clerical</td>\n",
       "      <td>21450.0</td>\n",
       "      <td>12750.0</td>\n",
       "      <td>63.0</td>\n",
       "      <td>139.0</td>\n",
       "      <td>No</td>\n",
       "    </tr>\n",
       "    <tr>\n",
       "      <th>473</th>\n",
       "      <td>474.0</td>\n",
       "      <td>Female</td>\n",
       "      <td>1968-11-05</td>\n",
       "      <td>12</td>\n",
       "      <td>Clerical</td>\n",
       "      <td>29400.0</td>\n",
       "      <td>14250.0</td>\n",
       "      <td>63.0</td>\n",
       "      <td>9.0</td>\n",
       "      <td>No</td>\n",
       "    </tr>\n",
       "  </tbody>\n",
       "</table>\n",
       "<p>474 rows × 10 columns</p>\n",
       "</div>"
      ],
      "text/plain": [
       "        id  gender       bdate  educ    jobcat   salary  salbegin  jobtime  \\\n",
       "0      1.0    Male  1952-02-03    15   Manager  57000.0   27000.0     98.0   \n",
       "1      2.0    Male  1958-05-23    16  Clerical  40200.0   18750.0     98.0   \n",
       "2      3.0  Female  1929-07-26    12  Clerical  21450.0   12000.0     98.0   \n",
       "3      4.0  Female  1947-04-15     8  Clerical  21900.0   13200.0     98.0   \n",
       "4      5.0    Male  1955-02-09    15  Clerical  45000.0   21000.0     98.0   \n",
       "..     ...     ...         ...   ...       ...      ...       ...      ...   \n",
       "469  470.0    Male  1964-01-22    12  Clerical  26250.0   15750.0     64.0   \n",
       "470  471.0    Male  1966-08-03    15  Clerical  26400.0   15750.0     64.0   \n",
       "471  472.0    Male  1966-02-21    15  Clerical  39150.0   15750.0     63.0   \n",
       "472  473.0  Female  1937-11-25    12  Clerical  21450.0   12750.0     63.0   \n",
       "473  474.0  Female  1968-11-05    12  Clerical  29400.0   14250.0     63.0   \n",
       "\n",
       "    prevexp minority  \n",
       "0     144.0       No  \n",
       "1      36.0       No  \n",
       "2     381.0       No  \n",
       "3     190.0       No  \n",
       "4     138.0       No  \n",
       "..      ...      ...  \n",
       "469    69.0      Yes  \n",
       "470    32.0      Yes  \n",
       "471    46.0       No  \n",
       "472   139.0       No  \n",
       "473     9.0       No  \n",
       "\n",
       "[474 rows x 10 columns]"
      ]
     },
     "execution_count": 125,
     "metadata": {},
     "output_type": "execute_result"
    }
   ],
   "source": [
    "df"
   ]
  },
  {
   "cell_type": "code",
   "execution_count": 126,
   "id": "e4528fe3-2df8-4214-8a92-c38d82415831",
   "metadata": {},
   "outputs": [
    {
     "data": {
      "text/plain": [
       "Index(['id', 'gender', 'bdate', 'educ', 'jobcat', 'salary', 'salbegin',\n",
       "       'jobtime', 'prevexp', 'minority'],\n",
       "      dtype='object')"
      ]
     },
     "execution_count": 126,
     "metadata": {},
     "output_type": "execute_result"
    }
   ],
   "source": [
    "df.columns"
   ]
  },
  {
   "cell_type": "code",
   "execution_count": 127,
   "id": "87968b24-ced4-4a54-a804-1dc6aa7c9e4d",
   "metadata": {},
   "outputs": [
    {
     "data": {
      "text/plain": [
       "(474, 10)"
      ]
     },
     "execution_count": 127,
     "metadata": {},
     "output_type": "execute_result"
    }
   ],
   "source": [
    "df.shape"
   ]
  },
  {
   "cell_type": "code",
   "execution_count": 128,
   "id": "e0c0afa2-c944-4d65-8bfc-bf3e88730f64",
   "metadata": {},
   "outputs": [
    {
     "data": {
      "text/plain": [
       "<bound method NDFrame.tail of         id  gender       bdate  educ    jobcat   salary  salbegin  jobtime  \\\n",
       "0      1.0    Male  1952-02-03    15   Manager  57000.0   27000.0     98.0   \n",
       "1      2.0    Male  1958-05-23    16  Clerical  40200.0   18750.0     98.0   \n",
       "2      3.0  Female  1929-07-26    12  Clerical  21450.0   12000.0     98.0   \n",
       "3      4.0  Female  1947-04-15     8  Clerical  21900.0   13200.0     98.0   \n",
       "4      5.0    Male  1955-02-09    15  Clerical  45000.0   21000.0     98.0   \n",
       "..     ...     ...         ...   ...       ...      ...       ...      ...   \n",
       "469  470.0    Male  1964-01-22    12  Clerical  26250.0   15750.0     64.0   \n",
       "470  471.0    Male  1966-08-03    15  Clerical  26400.0   15750.0     64.0   \n",
       "471  472.0    Male  1966-02-21    15  Clerical  39150.0   15750.0     63.0   \n",
       "472  473.0  Female  1937-11-25    12  Clerical  21450.0   12750.0     63.0   \n",
       "473  474.0  Female  1968-11-05    12  Clerical  29400.0   14250.0     63.0   \n",
       "\n",
       "    prevexp minority  \n",
       "0     144.0       No  \n",
       "1      36.0       No  \n",
       "2     381.0       No  \n",
       "3     190.0       No  \n",
       "4     138.0       No  \n",
       "..      ...      ...  \n",
       "469    69.0      Yes  \n",
       "470    32.0      Yes  \n",
       "471    46.0       No  \n",
       "472   139.0       No  \n",
       "473     9.0       No  \n",
       "\n",
       "[474 rows x 10 columns]>"
      ]
     },
     "execution_count": 128,
     "metadata": {},
     "output_type": "execute_result"
    }
   ],
   "source": [
    "df.tail"
   ]
  },
  {
   "cell_type": "code",
   "execution_count": 129,
   "id": "c9437d1d-db39-40ee-bbdf-93e00d155b6f",
   "metadata": {},
   "outputs": [
    {
     "name": "stdout",
     "output_type": "stream",
     "text": [
      "the mean of salary is 34419.56751054852\n",
      "the median of salary is 28875.0\n",
      "the standred diaviation of salary is 17075.661464586065\n",
      "the mode of salary is 0    30750.0\n",
      "Name: salary, dtype: float64\n",
      "the minimum of salary is 15750.0\n",
      "The maximum of salary is 135000.0\n"
     ]
    }
   ],
   "source": [
    "print('the mean of salary is', df['salary'].mean())\n",
    "print('the median of salary is', df['salary'].median())\n",
    "print('the standred diaviation of salary is', df['salary'].std())\n",
    "print('the mode of salary is', df['salary'].mode())\n",
    "print('the minimum of salary is', df['salary'].min())\n",
    "print('The maximum of salary is', df['salary'].max())"
   ]
  },
  {
   "cell_type": "code",
   "execution_count": 130,
   "id": "3aabe8dc-bab8-4b96-a426-34073f93c69b",
   "metadata": {},
   "outputs": [
    {
     "data": {
      "text/plain": [
       "array([ 57000.,  40200.,  21450.,  21900.,  45000.,  32100.,  36000.,\n",
       "        21900.,  27900.,  24000.,  30300.,  28350.,  27750.,  35100.,\n",
       "        27300.,  40800.,  46000., 103750.,  42300.,  26250.,  38850.,\n",
       "        21750.,  24000.,  16950.,  21150.,  31050.,  60375.,  32550.,\n",
       "       135000.,  31200.,  36150., 110625.,  42000.,  92000.,  81250.,\n",
       "        31350.,  29100.,  31350.,  36000.,  19200.,  23550.,  35100.,\n",
       "        23250.,  29250.,  30750.,  22350.,  30000.,  30750.,  34800.,\n",
       "        60000.,  35550.,  45150.,  73750.,  25050.,  27000.,  26850.,\n",
       "        33900.,  26400.,  28050.,  30900.,  22500.,  48000.,  55000.,\n",
       "        53125.,  21900.,  78125.,  46000.,  45250.,  56550.,  41100.,\n",
       "        82500.,  54000.,  26400.,  33900.,  24150.,  29250.,  27600.,\n",
       "        22950.,  34800.,  51000.,  24300.,  24750.,  22950.,  25050.,\n",
       "        25950.,  31650.,  24150.,  72500.,  68750.,  16200.,  20100.,\n",
       "        24000.,  25950.,  24600.,  28500.,  30750.,  40200.,  30000.,\n",
       "        22050.,  78250.,  60625.,  39900.,  97000.,  27450.,  31650.,\n",
       "        91250.,  25200.,  21000.,  30450.,  28350.,  30750.,  30750.,\n",
       "        54875.,  37800.,  33450.,  30300.,  31500.,  31650.,  25200.,\n",
       "        37800.,  18750.,  32550.,  33300.,  38550.,  27450.,  24300.,\n",
       "        30750.,  19650.,  68750.,  59375.,  31500.,  27300.,  27000.,\n",
       "        41550.,  26250.,  22200.,  65000.,  30900.,  20100.,  22350.,\n",
       "        35550.,  28500.,  24450.,  16650.,  26700.,  43950.,  23700.,\n",
       "        26550.,  27600.,  25800.,  42300.,  30750.,  26700.,  20850.,\n",
       "        35250.,  26700.,  26550.,  27750.,  25050.,  66000.,  52650.,\n",
       "        45625.,  30900.,  29400.,  33300.,  21900.,  18150.,  46875.,\n",
       "        25500.,  26550.,  26700.,  29850.,  69250.,  31950.,  26250.,\n",
       "        35700.,  28500.,  17100.,  25200.,  24000.,  27450.,  18450.,\n",
       "        39300.,  38850.,  30750.,  37500.,  58750.,  34500.,  36000.,\n",
       "        29100.,  16500.,  19650.,  24750.,  27150.,  26400.,  23100.,\n",
       "        54900.,  70875.,  51250.,  67500.,  29340.,  39600.,  29100.,\n",
       "        33150.,  66750.,  33750.,  27300.,  24000.,  19800.,  30600.,\n",
       "        28950.,  38400.,  30750.,  20400.,  19200.,  30150.,  34620.,\n",
       "        80000.,  25350.,  29850.,  24000.,  27750.,  22350.,  16200.,\n",
       "        21900.,  23250.,  33900.,  25650.,  17250.,  22500.,  40200.,\n",
       "        55500.,  26550.,  50550.,  75000.,  27450.,  22650.,  27300.,\n",
       "        27750.,  54375.,  17400.,  40800.,  23100.,  22500.,  26700.,\n",
       "        24900.,  19650.,  22050.,  25500.,  28200.,  23100.,  25500.,\n",
       "        17100.,  68125.,  30600.,  52125.,  61875.,  21300.,  19650.,\n",
       "        22350.,  23400.,  24300.,  28500.,  19950.,  23400.,  34500.,\n",
       "        18150.,  22350.,  40200.,  28650.,  27750.,  66875.,  30000.,\n",
       "        83750.,  33900.,  56500.,  43000.,  20850.,  24450.,  24750.,\n",
       "        34500.,  27900.,  68125.,  73500.,  30750.,  40050.,  40350.,\n",
       "        38700.,  65000.,  51450.,  35250.,  25950.,  25050.,  26700.,\n",
       "        24000.,  26850.,  23400.,  24600.,  32550.,  26550.,  31500.,\n",
       "        22350.,  35250.,  25800.,  30750.,  30750.,  50000.,  34500.,\n",
       "        26250.,  44875.,  22500.,  25650.,  21300.,  29850.,  34500.,\n",
       "        27750.,  27750.,  48750.,  43410.,  22050.,  22050.,  22500.,\n",
       "        25500.,  29160.,  16800.,  29550.,  26700.,  55000.,  62500.,\n",
       "        27300.,  24450.,  33000.,  37050.,  24450.,  31950.,  47250.,\n",
       "        26100.,  15900.,  23700.,  21750.,  59400.,  24450., 103500.,\n",
       "        35700.,  22200.,  22950.,  23100.,  56750.,  29100.,  37650.,\n",
       "        27900.,  21150.,  31200.,  20550.,  25950.,  28350.,  17700.,\n",
       "        23550.,  19950.,  29400.,  28800.,  16950.,  35700.,  17400.,\n",
       "        21450.,  24750.,  16950.,  26100.,  28050.,  36600.,  58125.,\n",
       "        21300.,  22500.,  29400.,  27450.,  29850.,  25350.,  15750.,\n",
       "        19650.,  21000.,  27000.,  24000.,  78500.,  20850.,  30000.,\n",
       "        28500.,  65000.,  30150.,  66875.,  24150.,  24450.,  21600.,\n",
       "        27900.,  29100.,  22650.,  20850.,  22950.,  30600.,  20400.,\n",
       "        23850.,  22800.,  20700.,  21300.,  24300.,  19650.,  60000.,\n",
       "        30300.,  61250.,  36000.,  25200.,  16200.,  22800.,  43500.,\n",
       "        30300.,  31950.,  35250.,  37800.,  31200.,  29400.,  70000.,\n",
       "        33900.,  27150.,  22200.,  31350.,  20850.,  33300.,  26250.,\n",
       "        31950.,  30000.,  66250.,  86250.,  30750.,  33540.,  34950.,\n",
       "        40350.,  30270.,  26250.,  32400.,  20400.,  24150.,  23850.,\n",
       "        29700.,  21600.,  24450.,  28050., 100000.,  49000.,  16350.,\n",
       "        70000.,  55000.,  28500.,  28800.,  24450.,  90625.,  43650.,\n",
       "        75000.,  31650.,  61875.,  21750.,  22500.,  21600.,  34410.,\n",
       "        20700.,  47550.,  33900.,  23400.,  32850.,  55750.,  25200.,\n",
       "        26250.,  26400.,  39150.,  21450.,  29400.])"
      ]
     },
     "execution_count": 130,
     "metadata": {},
     "output_type": "execute_result"
    }
   ],
   "source": [
    "df['salary'].values"
   ]
  },
  {
   "cell_type": "code",
   "execution_count": 131,
   "id": "88e84b26-6061-470c-be1d-9b21ee066df1",
   "metadata": {},
   "outputs": [
    {
     "data": {
      "text/plain": [
       "RangeIndex(start=0, stop=474, step=1)"
      ]
     },
     "execution_count": 131,
     "metadata": {},
     "output_type": "execute_result"
    }
   ],
   "source": [
    "df['salary'].index"
   ]
  },
  {
   "cell_type": "code",
   "execution_count": 132,
   "id": "aefa1e4b-a1ec-456d-b193-97a2fd5abefc",
   "metadata": {},
   "outputs": [
    {
     "data": {
      "text/plain": [
       "474"
      ]
     },
     "execution_count": 132,
     "metadata": {},
     "output_type": "execute_result"
    }
   ],
   "source": [
    "df['salary'].size"
   ]
  },
  {
   "cell_type": "code",
   "execution_count": 133,
   "id": "97608f8e-cd08-479e-8aea-31cfac457a61",
   "metadata": {},
   "outputs": [
    {
     "data": {
      "text/plain": [
       "<bound method NDFrame.replace of 0      57000.0\n",
       "1      40200.0\n",
       "2      21450.0\n",
       "3      21900.0\n",
       "4      45000.0\n",
       "        ...   \n",
       "469    26250.0\n",
       "470    26400.0\n",
       "471    39150.0\n",
       "472    21450.0\n",
       "473    29400.0\n",
       "Name: salary, Length: 474, dtype: float64>"
      ]
     },
     "execution_count": 133,
     "metadata": {},
     "output_type": "execute_result"
    }
   ],
   "source": [
    "df['salary'].replace"
   ]
  },
  {
   "cell_type": "code",
   "execution_count": 134,
   "id": "05eb6031-1891-4d94-899f-63784242f445",
   "metadata": {},
   "outputs": [
    {
     "data": {
      "text/plain": [
       "array([ 57000.,  40200.,  21450.,  21900.,  45000.,  32100.,  36000.,\n",
       "        27900.,  24000.,  30300.,  28350.,  27750.,  35100.,  27300.,\n",
       "        40800.,  46000., 103750.,  42300.,  26250.,  38850.,  21750.,\n",
       "        16950.,  21150.,  31050.,  60375.,  32550., 135000.,  31200.,\n",
       "        36150., 110625.,  42000.,  92000.,  81250.,  31350.,  29100.,\n",
       "        19200.,  23550.,  23250.,  29250.,  30750.,  22350.,  30000.,\n",
       "        34800.,  60000.,  35550.,  45150.,  73750.,  25050.,  27000.,\n",
       "        26850.,  33900.,  26400.,  28050.,  30900.,  22500.,  48000.,\n",
       "        55000.,  53125.,  78125.,  45250.,  56550.,  41100.,  82500.,\n",
       "        54000.,  24150.,  27600.,  22950.,  51000.,  24300.,  24750.,\n",
       "        25950.,  31650.,  72500.,  68750.,  16200.,  20100.,  24600.,\n",
       "        28500.,  22050.,  78250.,  60625.,  39900.,  97000.,  27450.,\n",
       "        91250.,  25200.,  21000.,  30450.,  54875.,  37800.,  33450.,\n",
       "        31500.,  18750.,  33300.,  38550.,  19650.,  59375.,  41550.,\n",
       "        22200.,  65000.,  24450.,  16650.,  26700.,  43950.,  23700.,\n",
       "        26550.,  25800.,  20850.,  35250.,  66000.,  52650.,  45625.,\n",
       "        29400.,  18150.,  46875.,  25500.,  29850.,  69250.,  31950.,\n",
       "        35700.,  17100.,  18450.,  39300.,  37500.,  58750.,  34500.,\n",
       "        16500.,  27150.,  23100.,  54900.,  70875.,  51250.,  67500.,\n",
       "        29340.,  39600.,  33150.,  66750.,  33750.,  19800.,  30600.,\n",
       "        28950.,  38400.,  20400.,  30150.,  34620.,  80000.,  25350.,\n",
       "        25650.,  17250.,  55500.,  50550.,  75000.,  22650.,  54375.,\n",
       "        17400.,  24900.,  28200.,  68125.,  52125.,  61875.,  21300.,\n",
       "        23400.,  19950.,  28650.,  66875.,  83750.,  56500.,  43000.,\n",
       "        73500.,  40050.,  40350.,  38700.,  51450.,  50000.,  44875.,\n",
       "        48750.,  43410.,  29160.,  16800.,  29550.,  62500.,  33000.,\n",
       "        37050.,  47250.,  26100.,  15900.,  59400., 103500.,  56750.,\n",
       "        37650.,  20550.,  17700.,  28800.,  36600.,  58125.,  15750.,\n",
       "        78500.,  21600.,  23850.,  22800.,  20700.,  61250.,  43500.,\n",
       "        70000.,  66250.,  86250.,  33540.,  34950.,  30270.,  32400.,\n",
       "        29700., 100000.,  49000.,  16350.,  90625.,  43650.,  34410.,\n",
       "        47550.,  32850.,  55750.,  39150.])"
      ]
     },
     "execution_count": 134,
     "metadata": {},
     "output_type": "execute_result"
    }
   ],
   "source": [
    "df['salary'].unique()"
   ]
  },
  {
   "cell_type": "code",
   "execution_count": 135,
   "id": "b7b2e3c7-4f51-421b-9177-fa68af94db29",
   "metadata": {},
   "outputs": [
    {
     "data": {
      "text/plain": [
       "array(['Manager', 'Clerical', 'Custodial'], dtype=object)"
      ]
     },
     "execution_count": 135,
     "metadata": {},
     "output_type": "execute_result"
    }
   ],
   "source": [
    "df['jobcat'].unique()"
   ]
  },
  {
   "cell_type": "code",
   "execution_count": 136,
   "id": "b1e01dbd-70ea-4b98-8fb1-4a95b0ecb117",
   "metadata": {},
   "outputs": [
    {
     "data": {
      "text/plain": [
       "2"
      ]
     },
     "execution_count": 136,
     "metadata": {},
     "output_type": "execute_result"
    }
   ],
   "source": [
    "df.ndim"
   ]
  },
  {
   "cell_type": "code",
   "execution_count": 163,
   "id": "99742cf9-66df-472a-8a7e-741cb4af29a8",
   "metadata": {},
   "outputs": [
    {
     "data": {
      "text/html": [
       "<div>\n",
       "<style scoped>\n",
       "    .dataframe tbody tr th:only-of-type {\n",
       "        vertical-align: middle;\n",
       "    }\n",
       "\n",
       "    .dataframe tbody tr th {\n",
       "        vertical-align: top;\n",
       "    }\n",
       "\n",
       "    .dataframe thead th {\n",
       "        text-align: right;\n",
       "    }\n",
       "</style>\n",
       "<table border=\"1\" class=\"dataframe\">\n",
       "  <thead>\n",
       "    <tr style=\"text-align: right;\">\n",
       "      <th></th>\n",
       "      <th>id</th>\n",
       "      <th>gender</th>\n",
       "      <th>bdate</th>\n",
       "      <th>educ</th>\n",
       "      <th>jobcat</th>\n",
       "      <th>salary</th>\n",
       "      <th>salbegin</th>\n",
       "      <th>jobtime</th>\n",
       "      <th>prevexp</th>\n",
       "      <th>minority</th>\n",
       "    </tr>\n",
       "  </thead>\n",
       "  <tbody>\n",
       "    <tr>\n",
       "      <th>370</th>\n",
       "      <td>371.0</td>\n",
       "      <td>Female</td>\n",
       "      <td>1966-04-05</td>\n",
       "      <td>16</td>\n",
       "      <td>Manager</td>\n",
       "      <td>58125.0</td>\n",
       "      <td>18000.0</td>\n",
       "      <td>71.0</td>\n",
       "      <td>11.0</td>\n",
       "      <td>No</td>\n",
       "    </tr>\n",
       "    <tr>\n",
       "      <th>371</th>\n",
       "      <td>372.0</td>\n",
       "      <td>Male</td>\n",
       "      <td>1935-08-22</td>\n",
       "      <td>15</td>\n",
       "      <td>Clerical</td>\n",
       "      <td>21300.0</td>\n",
       "      <td>15750.0</td>\n",
       "      <td>70.0</td>\n",
       "      <td>372.0</td>\n",
       "      <td>No</td>\n",
       "    </tr>\n",
       "    <tr>\n",
       "      <th>372</th>\n",
       "      <td>373.0</td>\n",
       "      <td>Male</td>\n",
       "      <td>1949-10-29</td>\n",
       "      <td>12</td>\n",
       "      <td>Clerical</td>\n",
       "      <td>22500.0</td>\n",
       "      <td>16500.0</td>\n",
       "      <td>70.0</td>\n",
       "      <td>216.0</td>\n",
       "      <td>No</td>\n",
       "    </tr>\n",
       "    <tr>\n",
       "      <th>373</th>\n",
       "      <td>374.0</td>\n",
       "      <td>Male</td>\n",
       "      <td>1967-07-26</td>\n",
       "      <td>15</td>\n",
       "      <td>Clerical</td>\n",
       "      <td>29400.0</td>\n",
       "      <td>15750.0</td>\n",
       "      <td>70.0</td>\n",
       "      <td>15.0</td>\n",
       "      <td>No</td>\n",
       "    </tr>\n",
       "  </tbody>\n",
       "</table>\n",
       "</div>"
      ],
      "text/plain": [
       "        id  gender       bdate  educ    jobcat   salary  salbegin  jobtime  \\\n",
       "370  371.0  Female  1966-04-05    16   Manager  58125.0   18000.0     71.0   \n",
       "371  372.0    Male  1935-08-22    15  Clerical  21300.0   15750.0     70.0   \n",
       "372  373.0    Male  1949-10-29    12  Clerical  22500.0   16500.0     70.0   \n",
       "373  374.0    Male  1967-07-26    15  Clerical  29400.0   15750.0     70.0   \n",
       "\n",
       "    prevexp minority  \n",
       "370    11.0       No  \n",
       "371   372.0       No  \n",
       "372   216.0       No  \n",
       "373    15.0       No  "
      ]
     },
     "execution_count": 163,
     "metadata": {},
     "output_type": "execute_result"
    }
   ],
   "source": [
    "df.iloc[370:374]"
   ]
  },
  {
   "cell_type": "code",
   "execution_count": 165,
   "id": "81b1db2e-9eeb-4e2c-93cf-f5574bdc14b1",
   "metadata": {},
   "outputs": [
    {
     "data": {
      "text/html": [
       "<div>\n",
       "<style scoped>\n",
       "    .dataframe tbody tr th:only-of-type {\n",
       "        vertical-align: middle;\n",
       "    }\n",
       "\n",
       "    .dataframe tbody tr th {\n",
       "        vertical-align: top;\n",
       "    }\n",
       "\n",
       "    .dataframe thead th {\n",
       "        text-align: right;\n",
       "    }\n",
       "</style>\n",
       "<table border=\"1\" class=\"dataframe\">\n",
       "  <thead>\n",
       "    <tr style=\"text-align: right;\">\n",
       "      <th></th>\n",
       "      <th>id</th>\n",
       "      <th>gender</th>\n",
       "      <th>bdate</th>\n",
       "      <th>educ</th>\n",
       "      <th>jobcat</th>\n",
       "      <th>salary</th>\n",
       "      <th>salbegin</th>\n",
       "      <th>jobtime</th>\n",
       "      <th>prevexp</th>\n",
       "      <th>minority</th>\n",
       "    </tr>\n",
       "  </thead>\n",
       "  <tbody>\n",
       "    <tr>\n",
       "      <th>370</th>\n",
       "      <td>371.0</td>\n",
       "      <td>Female</td>\n",
       "      <td>1966-04-05</td>\n",
       "      <td>16</td>\n",
       "      <td>Manager</td>\n",
       "      <td>58125.0</td>\n",
       "      <td>18000.0</td>\n",
       "      <td>71.0</td>\n",
       "      <td>11.0</td>\n",
       "      <td>No</td>\n",
       "    </tr>\n",
       "    <tr>\n",
       "      <th>371</th>\n",
       "      <td>372.0</td>\n",
       "      <td>Male</td>\n",
       "      <td>1935-08-22</td>\n",
       "      <td>15</td>\n",
       "      <td>Clerical</td>\n",
       "      <td>21300.0</td>\n",
       "      <td>15750.0</td>\n",
       "      <td>70.0</td>\n",
       "      <td>372.0</td>\n",
       "      <td>No</td>\n",
       "    </tr>\n",
       "    <tr>\n",
       "      <th>372</th>\n",
       "      <td>373.0</td>\n",
       "      <td>Male</td>\n",
       "      <td>1949-10-29</td>\n",
       "      <td>12</td>\n",
       "      <td>Clerical</td>\n",
       "      <td>22500.0</td>\n",
       "      <td>16500.0</td>\n",
       "      <td>70.0</td>\n",
       "      <td>216.0</td>\n",
       "      <td>No</td>\n",
       "    </tr>\n",
       "    <tr>\n",
       "      <th>373</th>\n",
       "      <td>374.0</td>\n",
       "      <td>Male</td>\n",
       "      <td>1967-07-26</td>\n",
       "      <td>15</td>\n",
       "      <td>Clerical</td>\n",
       "      <td>29400.0</td>\n",
       "      <td>15750.0</td>\n",
       "      <td>70.0</td>\n",
       "      <td>15.0</td>\n",
       "      <td>No</td>\n",
       "    </tr>\n",
       "    <tr>\n",
       "      <th>374</th>\n",
       "      <td>375.0</td>\n",
       "      <td>Male</td>\n",
       "      <td>1966-10-08</td>\n",
       "      <td>12</td>\n",
       "      <td>Clerical</td>\n",
       "      <td>27450.0</td>\n",
       "      <td>14700.0</td>\n",
       "      <td>70.0</td>\n",
       "      <td>41.0</td>\n",
       "      <td>No</td>\n",
       "    </tr>\n",
       "  </tbody>\n",
       "</table>\n",
       "</div>"
      ],
      "text/plain": [
       "        id  gender       bdate  educ    jobcat   salary  salbegin  jobtime  \\\n",
       "370  371.0  Female  1966-04-05    16   Manager  58125.0   18000.0     71.0   \n",
       "371  372.0    Male  1935-08-22    15  Clerical  21300.0   15750.0     70.0   \n",
       "372  373.0    Male  1949-10-29    12  Clerical  22500.0   16500.0     70.0   \n",
       "373  374.0    Male  1967-07-26    15  Clerical  29400.0   15750.0     70.0   \n",
       "374  375.0    Male  1966-10-08    12  Clerical  27450.0   14700.0     70.0   \n",
       "\n",
       "    prevexp minority  \n",
       "370    11.0       No  \n",
       "371   372.0       No  \n",
       "372   216.0       No  \n",
       "373    15.0       No  \n",
       "374    41.0       No  "
      ]
     },
     "execution_count": 165,
     "metadata": {},
     "output_type": "execute_result"
    }
   ],
   "source": [
    "df.loc[370:374]"
   ]
  },
  {
   "cell_type": "code",
   "execution_count": 175,
   "id": "1103bb4e-cb92-4a5a-bb9c-b5c732adb41c",
   "metadata": {},
   "outputs": [
    {
     "data": {
      "text/html": [
       "<div>\n",
       "<style scoped>\n",
       "    .dataframe tbody tr th:only-of-type {\n",
       "        vertical-align: middle;\n",
       "    }\n",
       "\n",
       "    .dataframe tbody tr th {\n",
       "        vertical-align: top;\n",
       "    }\n",
       "\n",
       "    .dataframe thead th {\n",
       "        text-align: right;\n",
       "    }\n",
       "</style>\n",
       "<table border=\"1\" class=\"dataframe\">\n",
       "  <thead>\n",
       "    <tr style=\"text-align: right;\">\n",
       "      <th></th>\n",
       "      <th>gender</th>\n",
       "      <th>jobcat</th>\n",
       "    </tr>\n",
       "  </thead>\n",
       "  <tbody>\n",
       "    <tr>\n",
       "      <th>0</th>\n",
       "      <td>Male</td>\n",
       "      <td>Manager</td>\n",
       "    </tr>\n",
       "    <tr>\n",
       "      <th>1</th>\n",
       "      <td>Male</td>\n",
       "      <td>Clerical</td>\n",
       "    </tr>\n",
       "    <tr>\n",
       "      <th>2</th>\n",
       "      <td>Female</td>\n",
       "      <td>Clerical</td>\n",
       "    </tr>\n",
       "    <tr>\n",
       "      <th>3</th>\n",
       "      <td>Female</td>\n",
       "      <td>Clerical</td>\n",
       "    </tr>\n",
       "    <tr>\n",
       "      <th>4</th>\n",
       "      <td>Male</td>\n",
       "      <td>Clerical</td>\n",
       "    </tr>\n",
       "    <tr>\n",
       "      <th>...</th>\n",
       "      <td>...</td>\n",
       "      <td>...</td>\n",
       "    </tr>\n",
       "    <tr>\n",
       "      <th>469</th>\n",
       "      <td>Male</td>\n",
       "      <td>Clerical</td>\n",
       "    </tr>\n",
       "    <tr>\n",
       "      <th>470</th>\n",
       "      <td>Male</td>\n",
       "      <td>Clerical</td>\n",
       "    </tr>\n",
       "    <tr>\n",
       "      <th>471</th>\n",
       "      <td>Male</td>\n",
       "      <td>Clerical</td>\n",
       "    </tr>\n",
       "    <tr>\n",
       "      <th>472</th>\n",
       "      <td>Female</td>\n",
       "      <td>Clerical</td>\n",
       "    </tr>\n",
       "    <tr>\n",
       "      <th>473</th>\n",
       "      <td>Female</td>\n",
       "      <td>Clerical</td>\n",
       "    </tr>\n",
       "  </tbody>\n",
       "</table>\n",
       "<p>474 rows × 2 columns</p>\n",
       "</div>"
      ],
      "text/plain": [
       "     gender    jobcat\n",
       "0      Male   Manager\n",
       "1      Male  Clerical\n",
       "2    Female  Clerical\n",
       "3    Female  Clerical\n",
       "4      Male  Clerical\n",
       "..      ...       ...\n",
       "469    Male  Clerical\n",
       "470    Male  Clerical\n",
       "471    Male  Clerical\n",
       "472  Female  Clerical\n",
       "473  Female  Clerical\n",
       "\n",
       "[474 rows x 2 columns]"
      ]
     },
     "execution_count": 175,
     "metadata": {},
     "output_type": "execute_result"
    }
   ],
   "source": [
    "df.loc[:, ['gender', 'jobcat']]"
   ]
  },
  {
   "cell_type": "code",
   "execution_count": 181,
   "id": "fe3ebbc0-059d-4907-8dce-046906b89ecc",
   "metadata": {},
   "outputs": [
    {
     "data": {
      "text/html": [
       "<div>\n",
       "<style scoped>\n",
       "    .dataframe tbody tr th:only-of-type {\n",
       "        vertical-align: middle;\n",
       "    }\n",
       "\n",
       "    .dataframe tbody tr th {\n",
       "        vertical-align: top;\n",
       "    }\n",
       "\n",
       "    .dataframe thead th {\n",
       "        text-align: right;\n",
       "    }\n",
       "</style>\n",
       "<table border=\"1\" class=\"dataframe\">\n",
       "  <thead>\n",
       "    <tr style=\"text-align: right;\">\n",
       "      <th></th>\n",
       "      <th>gender</th>\n",
       "      <th>bdate</th>\n",
       "      <th>educ</th>\n",
       "      <th>jobcat</th>\n",
       "      <th>salary</th>\n",
       "    </tr>\n",
       "  </thead>\n",
       "  <tbody>\n",
       "    <tr>\n",
       "      <th>370</th>\n",
       "      <td>Female</td>\n",
       "      <td>1966-04-05</td>\n",
       "      <td>16</td>\n",
       "      <td>Manager</td>\n",
       "      <td>58125.0</td>\n",
       "    </tr>\n",
       "    <tr>\n",
       "      <th>371</th>\n",
       "      <td>Male</td>\n",
       "      <td>1935-08-22</td>\n",
       "      <td>15</td>\n",
       "      <td>Clerical</td>\n",
       "      <td>21300.0</td>\n",
       "    </tr>\n",
       "    <tr>\n",
       "      <th>372</th>\n",
       "      <td>Male</td>\n",
       "      <td>1949-10-29</td>\n",
       "      <td>12</td>\n",
       "      <td>Clerical</td>\n",
       "      <td>22500.0</td>\n",
       "    </tr>\n",
       "    <tr>\n",
       "      <th>373</th>\n",
       "      <td>Male</td>\n",
       "      <td>1967-07-26</td>\n",
       "      <td>15</td>\n",
       "      <td>Clerical</td>\n",
       "      <td>29400.0</td>\n",
       "    </tr>\n",
       "  </tbody>\n",
       "</table>\n",
       "</div>"
      ],
      "text/plain": [
       "     gender       bdate  educ    jobcat   salary\n",
       "370  Female  1966-04-05    16   Manager  58125.0\n",
       "371    Male  1935-08-22    15  Clerical  21300.0\n",
       "372    Male  1949-10-29    12  Clerical  22500.0\n",
       "373    Male  1967-07-26    15  Clerical  29400.0"
      ]
     },
     "execution_count": 181,
     "metadata": {},
     "output_type": "execute_result"
    }
   ],
   "source": [
    "df.iloc[370:374,1:6:1]"
   ]
  },
  {
   "cell_type": "code",
   "execution_count": null,
   "id": "21bc69f4-9b68-488f-bd6b-d2d5e2263b4a",
   "metadata": {},
   "outputs": [],
   "source": []
  }
 ],
 "metadata": {
  "kernelspec": {
   "display_name": "Python [conda env:base] *",
   "language": "python",
   "name": "conda-base-py"
  },
  "language_info": {
   "codemirror_mode": {
    "name": "ipython",
    "version": 3
   },
   "file_extension": ".py",
   "mimetype": "text/x-python",
   "name": "python",
   "nbconvert_exporter": "python",
   "pygments_lexer": "ipython3",
   "version": "3.12.7"
  }
 },
 "nbformat": 4,
 "nbformat_minor": 5
}
